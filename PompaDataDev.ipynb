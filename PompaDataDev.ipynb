{
 "cells": [
  {
   "cell_type": "markdown",
   "id": "fb3bd620",
   "metadata": {},
   "source": [
    "# DESARROLLO DEL ANALÍSIS DE DATOS DE LA POMPA\n",
    "###### <p style=\"text-align: right;\">Jorge Avilés</p>"
   ]
  },
  {
   "cell_type": "markdown",
   "id": "9a77d066",
   "metadata": {},
   "source": [
    "## *configuraciones*"
   ]
  },
  {
   "cell_type": "code",
   "execution_count": 1,
   "id": "4f98d2cf",
   "metadata": {},
   "outputs": [],
   "source": [
    "import pandas as pd\n",
    "pd.set_option('display.max_rows', 25)\n"
   ]
  },
  {
   "cell_type": "code",
   "execution_count": 2,
   "id": "0e987ffa",
   "metadata": {},
   "outputs": [
    {
     "data": {
      "text/html": [
       "<div>\n",
       "<style scoped>\n",
       "    .dataframe tbody tr th:only-of-type {\n",
       "        vertical-align: middle;\n",
       "    }\n",
       "\n",
       "    .dataframe tbody tr th {\n",
       "        vertical-align: top;\n",
       "    }\n",
       "\n",
       "    .dataframe thead th {\n",
       "        text-align: right;\n",
       "    }\n",
       "</style>\n",
       "<table border=\"1\" class=\"dataframe\">\n",
       "  <thead>\n",
       "    <tr style=\"text-align: right;\">\n",
       "      <th></th>\n",
       "      <th>AÑO</th>\n",
       "      <th>NOMBRE COMPLETO</th>\n",
       "      <th># SERVICIOS</th>\n",
       "    </tr>\n",
       "  </thead>\n",
       "  <tbody>\n",
       "    <tr>\n",
       "      <th>0</th>\n",
       "      <td>2023</td>\n",
       "      <td>EDGAR RUIZ</td>\n",
       "      <td>7</td>\n",
       "    </tr>\n",
       "    <tr>\n",
       "      <th>1</th>\n",
       "      <td>2023</td>\n",
       "      <td>ALBERTO CAMAL</td>\n",
       "      <td>5</td>\n",
       "    </tr>\n",
       "    <tr>\n",
       "      <th>2</th>\n",
       "      <td>2023</td>\n",
       "      <td>FANNY FIGUEROA</td>\n",
       "      <td>6</td>\n",
       "    </tr>\n",
       "    <tr>\n",
       "      <th>3</th>\n",
       "      <td>2023</td>\n",
       "      <td>LILIANA N</td>\n",
       "      <td>6</td>\n",
       "    </tr>\n",
       "    <tr>\n",
       "      <th>4</th>\n",
       "      <td>2023</td>\n",
       "      <td>ADRIAN CAMPOS</td>\n",
       "      <td>6</td>\n",
       "    </tr>\n",
       "  </tbody>\n",
       "</table>\n",
       "</div>"
      ],
      "text/plain": [
       "    AÑO  NOMBRE COMPLETO  # SERVICIOS\n",
       "0  2023      EDGAR RUIZ             7\n",
       "1  2023   ALBERTO CAMAL             5\n",
       "2  2023  FANNY FIGUEROA             6\n",
       "3  2023       LILIANA N             6\n",
       "4  2023   ADRIAN CAMPOS             6"
      ]
     },
     "execution_count": 2,
     "metadata": {},
     "output_type": "execute_result"
    }
   ],
   "source": [
    "# Ruta al archivo\n",
    "file_path = 'data/total_sevicios_clientes_fieles_pompa.xlsx'\n",
    "\n",
    "# Cargar el archivo Excel en un DataFrame\n",
    "df = pd.read_excel(file_path)\n",
    "\n",
    "# Ver las primeras filas del DataFrame\n",
    "df.head()\n"
   ]
  },
  {
   "cell_type": "code",
   "execution_count": 3,
   "id": "57beabaa",
   "metadata": {},
   "outputs": [
    {
     "name": "stdout",
     "output_type": "stream",
     "text": [
      "Años presentes en la base de datos: [2023 2024]\n"
     ]
    }
   ],
   "source": [
    "# Obtener los años únicos en la columna 'AÑO'\n",
    "años_unicos = df['AÑO'].unique()\n",
    "\n",
    "# Mostrar los años únicos\n",
    "print(\"Años presentes en la base de datos:\", años_unicos)"
   ]
  },
  {
   "cell_type": "code",
   "execution_count": 4,
   "id": "fc611569",
   "metadata": {},
   "outputs": [
    {
     "data": {
      "text/html": [
       "<div>\n",
       "<style scoped>\n",
       "    .dataframe tbody tr th:only-of-type {\n",
       "        vertical-align: middle;\n",
       "    }\n",
       "\n",
       "    .dataframe tbody tr th {\n",
       "        vertical-align: top;\n",
       "    }\n",
       "\n",
       "    .dataframe thead th {\n",
       "        text-align: right;\n",
       "    }\n",
       "</style>\n",
       "<table border=\"1\" class=\"dataframe\">\n",
       "  <thead>\n",
       "    <tr style=\"text-align: right;\">\n",
       "      <th></th>\n",
       "      <th>AÑO</th>\n",
       "      <th>NOMBRE COMPLETO</th>\n",
       "      <th># SERVICIOS</th>\n",
       "    </tr>\n",
       "  </thead>\n",
       "  <tbody>\n",
       "    <tr>\n",
       "      <th>110</th>\n",
       "      <td>2023</td>\n",
       "      <td>ALEXANDER PECMAN</td>\n",
       "      <td>1927</td>\n",
       "    </tr>\n",
       "    <tr>\n",
       "      <th>801</th>\n",
       "      <td>2023</td>\n",
       "      <td>LESIA GROOVER</td>\n",
       "      <td>1340</td>\n",
       "    </tr>\n",
       "    <tr>\n",
       "      <th>743</th>\n",
       "      <td>2023</td>\n",
       "      <td>CRISTHIAN RODRIGUEZ ORTEGA</td>\n",
       "      <td>1008</td>\n",
       "    </tr>\n",
       "    <tr>\n",
       "      <th>919</th>\n",
       "      <td>2024</td>\n",
       "      <td>ALEXANDER PECMAN</td>\n",
       "      <td>576</td>\n",
       "    </tr>\n",
       "    <tr>\n",
       "      <th>928</th>\n",
       "      <td>2024</td>\n",
       "      <td>LESIA GROOVER</td>\n",
       "      <td>421</td>\n",
       "    </tr>\n",
       "    <tr>\n",
       "      <th>835</th>\n",
       "      <td>2023</td>\n",
       "      <td>VALERIA MECADER</td>\n",
       "      <td>418</td>\n",
       "    </tr>\n",
       "    <tr>\n",
       "      <th>787</th>\n",
       "      <td>2023</td>\n",
       "      <td>ARON SANZORES</td>\n",
       "      <td>330</td>\n",
       "    </tr>\n",
       "    <tr>\n",
       "      <th>907</th>\n",
       "      <td>2024</td>\n",
       "      <td>CRISTHIAN RODRIGUEZ ORTEGA</td>\n",
       "      <td>283</td>\n",
       "    </tr>\n",
       "    <tr>\n",
       "      <th>753</th>\n",
       "      <td>2023</td>\n",
       "      <td>ALEXANDRO ORTEGA</td>\n",
       "      <td>223</td>\n",
       "    </tr>\n",
       "    <tr>\n",
       "      <th>934</th>\n",
       "      <td>2024</td>\n",
       "      <td>VALERIA MECADER</td>\n",
       "      <td>162</td>\n",
       "    </tr>\n",
       "  </tbody>\n",
       "</table>\n",
       "</div>"
      ],
      "text/plain": [
       "      AÑO             NOMBRE COMPLETO  # SERVICIOS\n",
       "110  2023           ALEXANDER PECMAN          1927\n",
       "801  2023              LESIA GROOVER          1340\n",
       "743  2023  CRISTHIAN RODRIGUEZ ORTEGA         1008\n",
       "919  2024           ALEXANDER PECMAN           576\n",
       "928  2024              LESIA GROOVER           421\n",
       "835  2023            VALERIA MECADER           418\n",
       "787  2023              ARON SANZORES           330\n",
       "907  2024  CRISTHIAN RODRIGUEZ ORTEGA          283\n",
       "753  2023           ALEXANDRO ORTEGA           223\n",
       "934  2024            VALERIA MECADER           162"
      ]
     },
     "execution_count": 4,
     "metadata": {},
     "output_type": "execute_result"
    }
   ],
   "source": [
    "# Ordenar por la columna '# SERVICIO' en orden descendente y mostrar las primeras 10 filas\n",
    "top_10_personas = df.sort_values(by='# SERVICIOS', ascending=False).head(10)\n",
    "\n",
    "# Mostrar el resultado\n",
    "#print(top_10_personas[['NOMBRE COMPLETO', '# SERVICIOS']])\n",
    "top_10_personas.head(24)"
   ]
  },
  {
   "cell_type": "code",
   "execution_count": 5,
   "id": "dc17d029",
   "metadata": {},
   "outputs": [
    {
     "name": "stdout",
     "output_type": "stream",
     "text": [
      "\n",
      "Top 25 personas con más servicios en 2023:\n",
      "               NOMBRE COMPLETO  # SERVICIOS\n",
      "1            ALEXANDER PECMAN          1927\n",
      "2               LESIA GROOVER          1340\n",
      "3   CRISTHIAN RODRIGUEZ ORTEGA         1008\n",
      "4             VALERIA MECADER           418\n",
      "5               ARON SANZORES           330\n",
      "6            ALEXANDRO ORTEGA           223\n",
      "7             ALEJANDRA XACUR           124\n",
      "8              FDERICO AVALOS           114\n",
      "9               GABER PERALES           108\n",
      "10            ERNESTO GARRIDO           105\n",
      "11               NOE CORRALES            76\n",
      "12       NO PROPORCIONO DATOS            73\n",
      "13             ROBERTO BARGAS            63\n",
      "14                GABY ORTEGA            51\n",
      "15             DANIEL CANSECO            39\n",
      "16            RAFAEL BERZUNZA            38\n",
      "17             HUGO RODRIGUEZ            35\n",
      "18              PABLO MENDOZA            33\n",
      "19             JESSICA SAIDEN            33\n",
      "20    RICARDO TAPIA VILLANUEVA           32\n",
      "21             JAVIER ESPADAS            32\n",
      "22           HORACIO GALLEGOS            30\n",
      "23                     ALDO A            30\n",
      "24         GUILLERMO VILLARON            30\n",
      "25          JUAN IBARRA HUCHIN           30\n",
      "\n",
      "Top 25 personas con más servicios en 2024:\n",
      "               NOMBRE COMPLETO  # SERVICIOS\n",
      "1            ALEXANDER PECMAN           576\n",
      "2               LESIA GROOVER           421\n",
      "3   CRISTHIAN RODRIGUEZ ORTEGA          283\n",
      "4             VALERIA MECADER           162\n",
      "5               ARON SANZORES           114\n",
      "6               GABER PERALES            62\n",
      "7            ALEXANDRO ORTEGA            61\n",
      "8             ALEJANDRA XACUR            44\n",
      "9             ERNESTO GARRIDO            40\n",
      "10               NOE CORRALES            38\n",
      "11             HUGO RODRIGUEZ            31\n",
      "12    RICARDO TAPIA VILLANUEVA           31\n",
      "13          CRISTIAN CARRILLO            30\n",
      "14   LUIS ENRIQUE LUNA SANCHEZ           30\n",
      "15               JOSE MARRUFO            29\n",
      "16             AMATULA MOHAME            27\n",
      "17                GABY ORTEGA            27\n",
      "18            JOSE LUIS LOPEZ            25\n",
      "19             HECTOR MIRANDA            25\n",
      "20          JUAN IBARRA HUCHIN           25\n",
      "21              ROBERTO LOPEZ            24\n",
      "22             CESAR MARTINEZ            24\n",
      "23                MEMO FAUSTO            24\n",
      "24             JESSICA SAIDEN            23\n",
      "25       NO PROPORCIONO DATOS            23\n"
     ]
    }
   ],
   "source": [
    "resultados_por_año = {}\n",
    "\n",
    "for año in años_unicos:\n",
    "    # Filtrar por el año actual\n",
    "    df_año = df[df['AÑO'] == año]\n",
    "    \n",
    "    # Ordenar y obtener las 25 personas con más servicios\n",
    "    top = df_año.sort_values(by='# SERVICIOS', ascending=False).head(25)\n",
    "    \n",
    "    # Restablecer el índice y empezar desde 1\n",
    "    top.reset_index(drop=True, inplace=True)\n",
    "    top.index += 1  # Ajustar el índice para que empiece en 1\n",
    "\n",
    "    # Almacenar el resultado en el diccionario\n",
    "    resultados_por_año[año] = top[['NOMBRE COMPLETO', '# SERVICIOS']]\n",
    "\n",
    "# Mostrar las tablas para cada año\n",
    "for año, tabla in resultados_por_año.items():\n",
    "    print(f\"\\nTop {len(tabla)} personas con más servicios en {año}:\")\n",
    "    print(tabla)"
   ]
  },
  {
   "cell_type": "code",
   "execution_count": 6,
   "id": "ddddc580",
   "metadata": {},
   "outputs": [
    {
     "name": "stdout",
     "output_type": "stream",
     "text": [
      "Personas que más se repiten en los diferentes años:\n",
      "                   NOMBRE COMPLETO  Cantidad\n",
      "903                      NO DATOS        101\n",
      "908          NO PROPORCIONO DATOS         13\n",
      "911   NO QUISO PROPORCIONAR DATOS          8\n",
      "904                         NO DT          8\n",
      "1016               ROBERTO GERMON          5\n",
      "...                            ...       ...\n",
      "438                 GILBERTO LUNA          1\n",
      "439                  GILDA CAMARA          1\n",
      "440                  GILDA MORLET          1\n",
      "441                GLADYS PACHECO          1\n",
      "1131               YELIANA ANDARA          1\n",
      "\n",
      "[1132 rows x 2 columns]\n"
     ]
    }
   ],
   "source": [
    "# Agrupar por 'NOMBRE COMPLETO' y contar las ocurrencias\n",
    "repeticiones = df.groupby('NOMBRE COMPLETO').size().reset_index(name='Cantidad')\n",
    "\n",
    "# Ordenar por la cantidad de repeticiones en orden descendente\n",
    "repeticiones = repeticiones.sort_values(by='Cantidad', ascending=False)\n",
    "\n",
    "# Mostrar la tabla con las personas que más se repiten\n",
    "print(\"Personas que más se repiten en los diferentes años:\")\n",
    "print(repeticiones)"
   ]
  },
  {
   "cell_type": "code",
   "execution_count": 7,
   "id": "6ff164a5",
   "metadata": {},
   "outputs": [
    {
     "name": "stdout",
     "output_type": "stream",
     "text": [
      "Base de datos después de eliminar entradas con nombres vacíos:\n",
      "       AÑO     NOMBRE COMPLETO  # SERVICIOS\n",
      "0     2023         EDGAR RUIZ             7\n",
      "1     2023      ALBERTO CAMAL             5\n",
      "2     2023     FANNY FIGUEROA             6\n",
      "3     2023          LILIANA N             6\n",
      "4     2023      ADRIAN CAMPOS             6\n",
      "...    ...                 ...          ...\n",
      "1554  2024        GASPAR PECH             5\n",
      "1555  2024        RAUL HAUSER             5\n",
      "1556  2024  MARGARITA VERMONT             6\n",
      "1557  2024         ERNESTO NO             5\n",
      "1558  2024           MIRNA NO             5\n",
      "\n",
      "[1559 rows x 3 columns]\n"
     ]
    }
   ],
   "source": [
    "# Eliminar las entradas donde 'NOMBRE COMPLETO' esté vacío\n",
    "df = df[df['NOMBRE COMPLETO'].notna()]\n",
    "\n",
    "# O también puedes usar dropna\n",
    "# df.dropna(subset=['NOMBRE COMPLETO'], inplace=True)\n",
    "\n",
    "# Mostrar el DataFrame resultante después de la limpieza\n",
    "print(\"Base de datos después de eliminar entradas con nombres vacíos:\")\n",
    "print(df)"
   ]
  },
  {
   "cell_type": "code",
   "execution_count": 8,
   "id": "8522645d",
   "metadata": {},
   "outputs": [
    {
     "name": "stdout",
     "output_type": "stream",
     "text": [
      "Las entradas con nombres vacíos han sido eliminadas y el archivo ha sido actualizado.\n"
     ]
    }
   ],
   "source": [
    "import pandas as pd\n",
    "\n",
    "# Ruta al archivo\n",
    "file_path = 'data/total_sevicios_clientes_fieles_pompa.xlsx'\n",
    "\n",
    "# Cargar el archivo Excel en un DataFrame\n",
    "df = pd.read_excel(file_path)\n",
    "\n",
    "# Eliminar las entradas donde 'NOMBRE COMPLETO' esté vacío\n",
    "df = df[df['NOMBRE COMPLETO'].notna()]\n",
    "\n",
    "# Guardar el DataFrame actualizado en el mismo archivo\n",
    "df.to_excel(file_path, index=False)\n",
    "\n",
    "# Mostrar un mensaje de confirmación\n",
    "print(\"Las entradas con nombres vacíos han sido eliminadas y el archivo ha sido actualizado.\")\n"
   ]
  },
  {
   "cell_type": "code",
   "execution_count": 9,
   "id": "a32ee7ac",
   "metadata": {},
   "outputs": [
    {
     "name": "stdout",
     "output_type": "stream",
     "text": [
      "Personas que más se repiten en los diferentes años:\n",
      "                   NOMBRE COMPLETO  Cantidad\n",
      "903                      NO DATOS        101\n",
      "908          NO PROPORCIONO DATOS         13\n",
      "911   NO QUISO PROPORCIONAR DATOS          8\n",
      "904                         NO DT          8\n",
      "1016               ROBERTO GERMON          5\n",
      "...                            ...       ...\n",
      "438                 GILBERTO LUNA          1\n",
      "439                  GILDA CAMARA          1\n",
      "440                  GILDA MORLET          1\n",
      "441                GLADYS PACHECO          1\n",
      "1131               YELIANA ANDARA          1\n",
      "\n",
      "[1132 rows x 2 columns]\n"
     ]
    }
   ],
   "source": [
    "# Agrupar por 'NOMBRE COMPLETO' y contar las ocurrencias\n",
    "repeticiones = df.groupby('NOMBRE COMPLETO').size().reset_index(name='Cantidad')\n",
    "\n",
    "# Ordenar por la cantidad de repeticiones en orden descendente\n",
    "repeticiones = repeticiones.sort_values(by='Cantidad', ascending=False)\n",
    "\n",
    "# Mostrar la tabla con las personas que más se repiten\n",
    "print(\"Personas que más se repiten en los diferentes años:\")\n",
    "print(repeticiones)"
   ]
  },
  {
   "cell_type": "markdown",
   "id": "c888e116",
   "metadata": {},
   "source": [
    "###  eliminar a las personas con número de servicios anómalos"
   ]
  },
  {
   "cell_type": "code",
   "execution_count": 10,
   "id": "ffeea705",
   "metadata": {},
   "outputs": [
    {
     "name": "stdout",
     "output_type": "stream",
     "text": [
      "Las entradas con más de 100 servicios han sido eliminadas y el archivo ha sido actualizado.\n"
     ]
    }
   ],
   "source": [
    "# Establecer un límite razonable para el número de servicios por año\n",
    "limite_servicios = 100\n",
    "\n",
    "# Eliminar las entradas donde '# SERVICIOS' sea mayor que el límite establecido\n",
    "df = df[df['# SERVICIOS'] <= limite_servicios]\n",
    "\n",
    "# Guardar el DataFrame actualizado en el mismo archivo\n",
    "df.to_excel(file_path, index=False)\n",
    "\n",
    "# Mostrar un mensaje de confirmación\n",
    "print(f\"Las entradas con más de {limite_servicios} servicios han sido eliminadas y el archivo ha sido actualizado.\")"
   ]
  },
  {
   "cell_type": "code",
   "execution_count": 22,
   "id": "b83747bb",
   "metadata": {},
   "outputs": [],
   "source": [
    "def mostrar_repeticiones(df):\n",
    "    # Agrupar por 'NOMBRE COMPLETO' y 'AÑO', y contar los servicios\n",
    "    repeticiones = df.groupby(['NOMBRE COMPLETO', 'AÑO']).agg(Cantidad=('NOMBRE COMPLETO', 'size')).reset_index()\n",
    "\n",
    "    # Pivotar la tabla para que cada año sea una columna\n",
    "    pivot_table = repeticiones.pivot_table(index='NOMBRE COMPLETO', columns='AÑO', values='Cantidad', fill_value=0)\n",
    "\n",
    "    # Calcular el total de servicios por persona\n",
    "    pivot_table['Total'] = pivot_table.sum(axis=1)\n",
    "\n",
    "    # Ordenar por total de servicios en orden descendente\n",
    "    pivot_table = pivot_table.sort_values(by='Total', ascending=False)\n",
    "\n",
    "    # Restablecer el índice para convertir los nombres de las filas en una columna\n",
    "    pivot_table.reset_index(inplace=True)\n",
    "\n",
    "    # Mostrar la tabla final\n",
    "    print(\"Servicios realizados por cada persona en cada año y total (ordenados por total de servicios):\")\n",
    "    print(pivot_table)\n",
    "\n",
    "# Llamar a la función después de cargar y limpiar tu DataFrame\n",
    "# Ejemplo de uso:\n",
    "# df = pd.read_excel(file_path)  # Asegúrate de haber cargado el DataFrame previamente\n",
    "# mostrar_repeticiones(df)"
   ]
  },
  {
   "cell_type": "code",
   "execution_count": 23,
   "id": "421b50d7",
   "metadata": {},
   "outputs": [
    {
     "name": "stdout",
     "output_type": "stream",
     "text": [
      "Servicios realizados por cada persona en cada año y total (ordenados por total de servicios):\n",
      "AÑO                NOMBRE COMPLETO  2023  2024  Total\n",
      "0                        NO DATOS      6    95    101\n",
      "1            NO PROPORCIONO DATOS      6     7     13\n",
      "2                           NO DT      0     8      8\n",
      "3     NO QUISO PROPORCIONAR DATOS      7     1      8\n",
      "4                  ROBERTO GERMON      2     3      5\n",
      "...                            ...   ...   ...    ...\n",
      "1122         GERMAN VELAZQUEZ LARA     0     1      1\n",
      "1123            GERONIMO CASTILLO      1     0      1\n",
      "1124                 GERSON ORTIZ      0     1      1\n",
      "1125                GILBERTO LUNA      0     1      1\n",
      "1126               YELIANA ANDARA      1     0      1\n",
      "\n",
      "[1127 rows x 4 columns]\n"
     ]
    }
   ],
   "source": [
    "mostrar_repeticiones(df)"
   ]
  },
  {
   "cell_type": "code",
   "execution_count": 1,
   "id": "5403d5e2",
   "metadata": {},
   "outputs": [
    {
     "ename": "NameError",
     "evalue": "name 'git' is not defined",
     "output_type": "error",
     "traceback": [
      "\u001b[1;31m---------------------------------------------------------------------------\u001b[0m",
      "\u001b[1;31mNameError\u001b[0m                                 Traceback (most recent call last)",
      "\u001b[1;32m<ipython-input-1-7407f1d6c5f6>\u001b[0m in \u001b[0;36m<module>\u001b[1;34m\u001b[0m\n\u001b[1;32m----> 1\u001b[1;33m \u001b[0mgit\u001b[0m \u001b[1;33m-\u001b[0m\u001b[1;33m-\u001b[0m\u001b[0mversion\u001b[0m\u001b[1;33m\u001b[0m\u001b[1;33m\u001b[0m\u001b[0m\n\u001b[0m",
      "\u001b[1;31mNameError\u001b[0m: name 'git' is not defined"
     ]
    }
   ],
   "source": [
    "git --version"
   ]
  },
  {
   "cell_type": "code",
   "execution_count": null,
   "id": "13ddfb45",
   "metadata": {},
   "outputs": [],
   "source": []
  }
 ],
 "metadata": {
  "kernelspec": {
   "display_name": "Python 3",
   "language": "python",
   "name": "python3"
  },
  "language_info": {
   "codemirror_mode": {
    "name": "ipython",
    "version": 3
   },
   "file_extension": ".py",
   "mimetype": "text/x-python",
   "name": "python",
   "nbconvert_exporter": "python",
   "pygments_lexer": "ipython3",
   "version": "3.8.8"
  }
 },
 "nbformat": 4,
 "nbformat_minor": 5
}
